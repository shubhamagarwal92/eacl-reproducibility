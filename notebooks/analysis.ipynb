{
 "cells": [
  {
   "cell_type": "code",
   "execution_count": 1,
   "metadata": {},
   "outputs": [],
   "source": [
    "from wordcloud import WordCloud, STOPWORDS\n",
    "import matplotlib.pyplot as plt\n",
    "import pandas as pd\n",
    "import nltk\n"
   ]
  },
  {
   "cell_type": "code",
   "execution_count": 2,
   "metadata": {},
   "outputs": [],
   "source": [
    "stopwords = set(STOPWORDS)"
   ]
  },
  {
   "cell_type": "code",
   "execution_count": 3,
   "metadata": {},
   "outputs": [],
   "source": [
    "RESOURCE_DIR = \"../resources/\"\n",
    "CSV_FILE = f\"{RESOURCE_DIR}/Reproducibility Survey EACL'21 - Annotated Bibliography - 47 papers from ACL Anthology.csv\"\n",
    "EXCEL_FILE = f\"{RESOURCE_DIR}/Reproducibility Survey EACL'21 - Annotated Bibliography.xlsx\"\n",
    "SAVE_DIR = f\"../figures/\""
   ]
  },
  {
   "cell_type": "code",
   "execution_count": 4,
   "metadata": {},
   "outputs": [],
   "source": [
    "def get_df(csv_path):\n",
    "    df = pd.read_csv(csv_path)\n",
    "    return df\n",
    "#     with open(csv_path) as file_h:\n",
    "#         turns = file_h.read().splitlines()\n",
    "#     turns = pd.Series(turns)\n",
    "#     return turns\n"
   ]
  },
  {
   "cell_type": "code",
   "execution_count": 5,
   "metadata": {},
   "outputs": [],
   "source": [
    "def plot_wordcloud(text, filepath):\n",
    "    \n",
    "    wordcloud = WordCloud(stopwords=stopwords, max_font_size=70, min_font_size = 5,\n",
    "                          max_words=60,\n",
    "                          background_color=\"white\", relative_scaling=1.0).generate(text)\n",
    "#     max_font_size=50, max_words=100, background_color=\"white\"\n",
    "    # max_font_size = 20, min_font_size = 10, colormap=\"Oranges_r\", width=480, height=480,\n",
    "    # max_words=100, mask=transformed_wine_mask, contour_width=3, contour_color='firebrick',\n",
    "    # background_color=\"white\", mode=\"RGBA\")\n",
    "    fig = plt.figure()\n",
    "    # plt.figure(figsize=[20, 10])\n",
    "    plt.imshow(wordcloud)\n",
    "    # plt.imshow(wordcloud, interpolation=\"bilinear\")\n",
    "    plt.axis(\"off\")\n",
    "    # plt.margins(x=0, y=0)\n",
    "    plt.show()\n",
    "    # fig.savefig(rel_path)\n",
    "    wordcloud.to_file(filepath)\n"
   ]
  },
  {
   "cell_type": "code",
   "execution_count": 12,
   "metadata": {},
   "outputs": [],
   "source": [
    "# Pandas helpers from \n",
    "# https://gist.github.com/shubhamagarwal92/13e2c41d09156c3810740d7697a883d1\n",
    "def get_column_names(df):\n",
    "    return df.columns.values"
   ]
  },
  {
   "cell_type": "code",
   "execution_count": 15,
   "metadata": {},
   "outputs": [
    {
     "name": "stdout",
     "output_type": "stream",
     "text": [
      "                                               bibtex  \\\n",
      "0   @inproceedings{schwartz-2010-reproducible,\\n  ...   \n",
      "1   @inproceedings{fokkens-etal-2013-offspring,\\n ...   \n",
      "2   @inproceedings{roy-etal-2014-tvd,\\n    title =...   \n",
      "3   @inproceedings{borgholt-etal-2015-rating,\\n   ...   \n",
      "4   @inproceedings{neveol-etal-2016-replicability,...   \n",
      "5   @inproceedings{fares-etal-2017-word,\\n    titl...   \n",
      "6   @inproceedings{dakota-kubler-2017-towards,\\n  ...   \n",
      "7   @article{dror-etal-2017-replicability,\\n    ti...   \n",
      "8   @inproceedings{marrese-taylor-matsuo-2017-repl...   \n",
      "9   @inproceedings{horsmann-zesch-2017-lstms,\\n   ...   \n",
      "10  @inproceedings{morey-etal-2017-much,\\n    titl...   \n",
      "11  @inproceedings{htut-etal-2018-grammar,\\n    ti...   \n",
      "12  @article{crane-2018-questionable,\\n    title =...   \n",
      "13  @inproceedings{branco-2018-depleting,\\n    tit...   \n",
      "14  @inproceedings{cohen-etal-2018-three,\\n    tit...   \n",
      "15  @inproceedings{gartner-etal-2018-preserving,\\n...   \n",
      "16  @inproceedings{horsmann-zesch-2018-deeptc,\\n  ...   \n",
      "17  @article{wieling-etal-2018-squib,\\n    title =...   \n",
      "18  @inproceedings{htut-etal-2018-grammar-inductio...   \n",
      "19  @inproceedings{moore-rayson-2018-bringing,\\n  ...   \n",
      "20  @inproceedings{pierrejean-tanguy-2018-etude,\\n...   \n",
      "21  @inproceedings{van-miltenburg-etal-2019-task,\\...   \n",
      "22  @inproceedings{fortuna-etal-2019-stop,\\n    ti...   \n",
      "23  @inproceedings{mieskes-etal-2019-community,\\n ...   \n",
      "24  @inproceedings{wu-etal-2019-errudite,\\n    tit...   \n",
      "25  @article{zhang-duh-2020-reproducible,\\n    tit...   \n",
      "26  @inproceedings{born-etal-2020-dataset,\\n    ti...   \n",
      "27  @inproceedings{antonio-rodrigues-etal-2020-rep...   \n",
      "28  @inproceedings{branco-etal-2020-shared,\\n    t...   \n",
      "29  @inproceedings{garneau-etal-2020-robust,\\n    ...   \n",
      "30  @inproceedings{khoe-2020-reproducing,\\n    tit...   \n",
      "31  @inproceedings{rim-etal-2020-reproducing,\\n   ...   \n",
      "32  @inproceedings{abdellatif-elgammal-2020-ulmfit...   \n",
      "33  @inproceedings{bestgen-2020-reproducing,\\n    ...   \n",
      "34  @inproceedings{huber-coltekin-2020-reproductio...   \n",
      "35  @inproceedings{ballier-etal-2020-learnability,...   \n",
      "36  @inproceedings{millour-etal-2020-repliquer,\\n ...   \n",
      "37                                                NaN   \n",
      "\n",
      "                                              Authors  \\\n",
      "0                                      Schwartz, Lane   \n",
      "1   Fokkens, Antske  and\\n      van Erp, Marieke  ...   \n",
      "2   Roy, Anindya  and\\n      Guinaudeau, Camille  ...   \n",
      "3   Borgholt, Lasse  and\\n      Simonsen, Peter  a...   \n",
      "4   N{\\'e}v{\\'e}ol, Aur{\\'e}lie  and\\n      Cohen,...   \n",
      "5   Fares, Murhaf  and\\n      Kutuzov, Andrey  and...   \n",
      "6   Dakota, Daniel  and\\n      K{\\\"u}bler, Sandra}...   \n",
      "7   Dror, Rotem  and\\n      Baumer, Gili  and\\n   ...   \n",
      "8   Marrese-Taylor, Edison  and\\n      Matsuo, Yutaka   \n",
      "9         Horsmann, Tobias  and\\n      Zesch, Torsten   \n",
      "10  Morey, Mathieu  and\\n      Muller, Philippe  a...   \n",
      "11  Htut, Phu Mon  and\\n      Cho, Kyunghyun  and\\...   \n",
      "12                                        Crane, Matt   \n",
      "13                                Branco, Ant{\\'o}nio   \n",
      "14  Cohen, K. Bretonnel  and\\n      Xia, Jingbo  a...   \n",
      "15  G{\\\"a}rtner, Markus  and\\n      Hahn, Uli  and...   \n",
      "16        Horsmann, Tobias  and\\n      Zesch, Torsten   \n",
      "17  Wieling, Martijn  and\\n      Rawee, Josine  an...   \n",
      "18  Htut, Phu Mon  and\\n      Cho, Kyunghyun  and\\...   \n",
      "19             Moore, Andrew  and\\n      Rayson, Paul   \n",
      "20  Pierrejean, B{\\'e}n{\\'e}dicte  and\\n      Tang...   \n",
      "21  van Miltenburg, Emiel  and\\n      van de Kerkh...   \n",
      "22  Fortuna, Paula  and\\n      Soler-Company, Juan...   \n",
      "23  Mieskes, Margot  and\\n      Fort, Kar{\\\"e}n  a...   \n",
      "24  Wu, Tongshuang  and\\n      Ribeiro, Marco Tuli...   \n",
      "25                 Zhang, Xuan  and\\n      Duh, Kevin   \n",
      "26  Born, Leo  and\\n      Bacher, Maximilian  and\\...   \n",
      "27  Ant{\\'o}nio Rodrigues, Jo{\\~a}o  and\\n      Br...   \n",
      "28  Branco, Ant{\\'o}nio  and\\n      Calzolari, Nic...   \n",
      "29  Garneau, Nicolas  and\\n      Godbout, Mathieu ...   \n",
      "30                                     Khoe, Yung Han   \n",
      "31  Rim, Kyeongmin  and\\n      Tu, Jingxuan  and\\n...   \n",
      "32    Abdellatif, Mohamed  and\\n      Elgammal, Ahmed   \n",
      "33                                      Bestgen, Yves   \n",
      "34  Huber, Eva  and\\n      {\\c{C}}{\\\"o}ltekin, {\\c...   \n",
      "35  Ballier, Nicolas  and\\n      Amari, Nabil  and...   \n",
      "36  Millour, Alice  and\\n      Fort, Kar{\\\"e}n  an...   \n",
      "37                                                NaN   \n",
      "\n",
      "                                                Title  \\\n",
      "0   Reproducible Results in Parsing-Based Machine ...   \n",
      "1   Offspring from Reproduction Problems: What Rep...   \n",
      "2   {TVD}: A Reproducible and Multiply Aligned {TV...   \n",
      "3   The Rating Game: Sentiment Rating Reproducibil...   \n",
      "4   Replicability of Research in Biomedical Natura...   \n",
      "5   Word vectors, reuse, and replicability: Toward...   \n",
      "6                    Towards Replicability in Parsing   \n",
      "7   Replicability Analysis for Natural Language Pr...   \n",
      "8   Replication issues in syntax-based aspect extr...   \n",
      "9   Do {LSTM}s really work so well for {P}o{S} tag...   \n",
      "10  How much progress have we made on {RST} discou...   \n",
      "11  Grammar Induction with Neural Language Models:...   \n",
      "12  Questionable Answers in Question Answering Res...   \n",
      "13  We Are Depleting Our Research Subject as We Ar...   \n",
      "14  Three Dimensions of Reproducibility in Natural...   \n",
      "15  Preserving Workflow Reproducibility: The {R}e{...   \n",
      "16  {D}eep{TC} {--} An Extension of {DKP}ro Text C...   \n",
      "17  {S}quib: Reproducibility in Computational Ling...   \n",
      "18  Grammar Induction with Neural Language Models:...   \n",
      "19  Bringing replication and reproduction together...   \n",
      "20  Etude de la reproductibilit{\\'e} des word embe...   \n",
      "21  On task effects in {NLG} corpus elicitation: a...   \n",
      "22  Stop {P}ropag{H}ate at {S}em{E}val-2019 Tasks ...   \n",
      "23  Community Perspective on Replicability in Natu...   \n",
      "24  {E}rrudite: Scalable, Reproducible, and Testab...   \n",
      "25  Reproducible and Efficient Benchmarks for Hype...   \n",
      "26  Dataset Reproducibility and {IR} Methods in Ti...   \n",
      "27  Reproduction and Revival of the Argument Reaso...   \n",
      "28  A Shared Task of a New, Collaborative Type to ...   \n",
      "29  A Robust Self-Learning Method for Fully Unsupe...   \n",
      "30  Reproducing a Morphosyntactic Tagger with a Me...   \n",
      "31  Reproducing Neural Ensemble Classifier for Sem...   \n",
      "32                             {ULMF}i{T} replication   \n",
      "33  Reproducing Monolingual, Multilingual and Cros...   \n",
      "34  Reproduction and Replication: A Case Study wit...   \n",
      "35  The Learnability of the Annotated Input in {NM...   \n",
      "36  R{\\'e}pliquer et {\\'e}tendre pour l{'}alsacien...   \n",
      "37                                                NaN   \n",
      "\n",
      "                                                 Year   Venue Abbr venue  \\\n",
      "0   Proceedings of the Joint Fifth Workshop on Sta...  2010.0         WS   \n",
      "1   Proceedings of the 51st Annual Meeting of the ...  2013.0        ACL   \n",
      "2   Proceedings of the Ninth International Confere...  2014.0       LREC   \n",
      "3   Proceedings of the 2015 Conference on Empirica...  2015.0      EMNLP   \n",
      "4   Proceedings of the Seventh International Works...  2016.0         WS   \n",
      "5   Proceedings of the 21st Nordic Conference on C...  2017.0         WS   \n",
      "6   Proceedings of the International Conference Re...  2017.0         WS   \n",
      "7   Transactions of the Association for Computatio...  2017.0       TACL   \n",
      "8   Proceedings of the Student Research Workshop a...  2017.0       EACL   \n",
      "9   Proceedings of the 2017 Conference on Empirica...  2017.0      EMNLP   \n",
      "10  Proceedings of the 2017 Conference on Empirica...  2017.0      EMNLP   \n",
      "11  Proceedings of the 2018 {EMNLP} Workshop {B}la...  2018.0         WS   \n",
      "12  Transactions of the Association for Computatio...  2018.0       TACL   \n",
      "13  Proceedings of the Eleventh International Conf...  2018.0       LREC   \n",
      "14  Proceedings of the Eleventh International Conf...  2018.0       LREC   \n",
      "15  Proceedings of the Eleventh International Conf...  2018.0       LREC   \n",
      "16  Proceedings of the Eleventh International Conf...  2018.0       LREC   \n",
      "17                          Computational Linguistics  2018.0         CL   \n",
      "18  Proceedings of the 2018 Conference on Empirica...  2018.0      EMNLP   \n",
      "19  Proceedings of the 27th International Conferen...  2018.0     COLING   \n",
      "20  Actes de la Conf{\\'e}rence TALN. Volume 1 - Ar...  2018.0         WS   \n",
      "21  Proceedings of the 12th International Conferen...  2019.0       INLG   \n",
      "22  Proceedings of the 13th International Workshop...  2019.0         WS   \n",
      "23  Proceedings of the International Conference on...  2019.0         WS   \n",
      "24  Proceedings of the 57th Annual Meeting of the ...  2019.0        ACL   \n",
      "25  Transactions of the Association for Computatio...  2020.0        ACL   \n",
      "26  Proceedings of The 12th Language Resources and...  2020.0       LREC   \n",
      "27  Proceedings of The 12th Language Resources and...  2020.0       LREC   \n",
      "28  Proceedings of The 12th Language Resources and...  2020.0       LREC   \n",
      "29  Proceedings of The 12th Language Resources and...  2020.0       LREC   \n",
      "30  Proceedings of The 12th Language Resources and...  2020.0       LREC   \n",
      "31  Proceedings of The 12th Language Resources and...  2020.0       LREC   \n",
      "32  Proceedings of The 12th Language Resources and...  2020.0       LREC   \n",
      "33  Proceedings of The 12th Language Resources and...  2020.0       LREC   \n",
      "34  Proceedings of The 12th Language Resources and...  2020.0       LREC   \n",
      "35  Proceedings of The 12th Language Resources and...  2020.0       LREC   \n",
      "36  Actes de la 6e conf{\\'e}rence conjointe Journ{...  2020.0         WS   \n",
      "37                                                NaN     NaN         WS   \n",
      "\n",
      "                                             Abstract  \\\n",
      "0                                                 NaN   \n",
      "1                                                 NaN   \n",
      "2                                                 NaN   \n",
      "3                                                 NaN   \n",
      "4                                                 NaN   \n",
      "5                                                 NaN   \n",
      "6                                                 NaN   \n",
      "7                                                 NaN   \n",
      "8                                                 NaN   \n",
      "9                                                 NaN   \n",
      "10                                                NaN   \n",
      "11                                                NaN   \n",
      "12                                                NaN   \n",
      "13                                                NaN   \n",
      "14                                               LREC   \n",
      "15                                                NaN   \n",
      "16                                                NaN   \n",
      "17                                                NaN   \n",
      "18                                                NaN   \n",
      "19                                                NaN   \n",
      "20  Distributional semantic models trained using n...   \n",
      "21  Task effects in NLG corpus elicitation recentl...   \n",
      "22  This paper summarizes the participation of Sto...   \n",
      "23  With recent efforts in drawing attention to th...   \n",
      "24  Though error analysis is crucial to understand...   \n",
      "25                                                NaN   \n",
      "26  Timeline summarization (TLS) generates a dated...   \n",
      "27  Reproduction of scientific findings is essenti...   \n",
      "28                                                NaN   \n",
      "29  In this paper, we reproduce the experiments of...   \n",
      "30  Reproducibility is generally regarded as being...   \n",
      "31  Within the natural language processing (NLP) c...   \n",
      "32  In this paper, we reproduce some of the experi...   \n",
      "33  This study aims to reproduce the research of V...   \n",
      "34  As in many experimental sciences, reproducibil...   \n",
      "35  In this paper, we reproduce some of the experi...   \n",
      "36  We present here the results of our efforts in ...   \n",
      "37  We present here the results of our efforts in ...   \n",
      "\n",
      "   Notes, e.g. findings, important points, etc. not made in abstract  Links  \n",
      "0                                                 NaN                   NaN  \n",
      "1                                                 NaN                   NaN  \n",
      "2                                            marginal                   NaN  \n",
      "3                                                 NaN                   NaN  \n",
      "4                                                 NaN                   NaN  \n",
      "5                                  marginal relevance                   NaN  \n",
      "6                                                 NaN                   NaN  \n",
      "7                                                 NaN                   NaN  \n",
      "8                                                 NaN                   NaN  \n",
      "9                                                 NaN                   NaN  \n",
      "10                                                NaN                   NaN  \n",
      "11                                                NaN                   NaN  \n",
      "12                                                NaN                   NaN  \n",
      "13                                           marginal                   NaN  \n",
      "14                                                NaN                   NaN  \n",
      "15                                                NaN                   NaN  \n",
      "16                                                NaN                   NaN  \n",
      "17                                                NaN                   NaN  \n",
      "18                                                NaN                   NaN  \n",
      "19                                                NaN                   NaN  \n",
      "20                                                NaN                   NaN  \n",
      "21                                                NaN                   NaN  \n",
      "22                                           marginal                   NaN  \n",
      "23                                                NaN                   NaN  \n",
      "24                                                NaN                   NaN  \n",
      "25                                                NaN                   NaN  \n",
      "26                                                NaN                   NaN  \n",
      "27                                                NaN                   NaN  \n",
      "28                                                NaN                   NaN  \n",
      "29                                                NaN                   NaN  \n",
      "30                                                NaN                   NaN  \n",
      "31                                                NaN                   NaN  \n",
      "32                                                NaN                   NaN  \n",
      "33                                                NaN                   NaN  \n",
      "34                                                NaN                   NaN  \n",
      "35                                                NaN                   NaN  \n",
      "36                                                NaN                   NaN  \n",
      "37                                                NaN                   NaN  \n"
     ]
    },
    {
     "data": {
      "text/plain": [
       "array(['bibtex', 'Authors', 'Title', 'Year', 'Venue', 'Abbr venue',\n",
       "       'Abstract',\n",
       "       'Notes, e.g. findings, important points, etc. not made in abstract',\n",
       "       'Links'], dtype=object)"
      ]
     },
     "execution_count": 15,
     "metadata": {},
     "output_type": "execute_result"
    }
   ],
   "source": [
    "df = get_df(CSV_FILE)\n",
    "print(df)\n",
    "get_column_names(df)"
   ]
  },
  {
   "cell_type": "code",
   "execution_count": 24,
   "metadata": {},
   "outputs": [
    {
     "data": {
      "image/png": "[encoded data removed]",
      "text/plain": [
       "<Figure size 432x288 with 1 Axes>"
      ]
     },
     "metadata": {
      "needs_background": "light"
     },
     "output_type": "display_data"
    }
   ],
   "source": [
    "title_df = df[\"Title\"]\n",
    "title_df = title_df.dropna()\n",
    "# print(title_df)\n",
    "\n",
    "text = \" \".join(str(title).strip(\"{\").strip(\"}\").strip(\"\\\\\").strip(\"'e\") for title in df.Title)\n",
    "# print(text)\n",
    "\n",
    "title_text = \" \".join(title_df)\n",
    "\n",
    "filepath = f\"{SAVE_DIR}/title_wordcloud.png\"\n",
    "plot_wordcloud(title_text, filepath=filepath)\n"
   ]
  },
  {
   "cell_type": "code",
   "execution_count": 34,
   "metadata": {},
   "outputs": [
    {
     "name": "stdout",
     "output_type": "stream",
     "text": [
      "<class 'pandas.core.series.Series'>\n"
     ]
    },
    {
     "data": {
      "text/html": [
       "<div>\n",
       "<style scoped>\n",
       "    .dataframe tbody tr th:only-of-type {\n",
       "        vertical-align: middle;\n",
       "    }\n",
       "\n",
       "    .dataframe tbody tr th {\n",
       "        vertical-align: top;\n",
       "    }\n",
       "\n",
       "    .dataframe thead th {\n",
       "        text-align: right;\n",
       "    }\n",
       "</style>\n",
       "<table border=\"1\" class=\"dataframe\">\n",
       "  <thead>\n",
       "    <tr style=\"text-align: right;\">\n",
       "      <th></th>\n",
       "      <th>year</th>\n",
       "      <th>venue</th>\n",
       "    </tr>\n",
       "  </thead>\n",
       "  <tbody>\n",
       "    <tr>\n",
       "      <th>0</th>\n",
       "      <td>2010</td>\n",
       "      <td>WS</td>\n",
       "    </tr>\n",
       "    <tr>\n",
       "      <th>1</th>\n",
       "      <td>2013</td>\n",
       "      <td>ACL</td>\n",
       "    </tr>\n",
       "    <tr>\n",
       "      <th>2</th>\n",
       "      <td>2014</td>\n",
       "      <td>LREC</td>\n",
       "    </tr>\n",
       "    <tr>\n",
       "      <th>3</th>\n",
       "      <td>2015</td>\n",
       "      <td>EMNLP</td>\n",
       "    </tr>\n",
       "    <tr>\n",
       "      <th>4</th>\n",
       "      <td>2016</td>\n",
       "      <td>WS</td>\n",
       "    </tr>\n",
       "    <tr>\n",
       "      <th>5</th>\n",
       "      <td>2017</td>\n",
       "      <td>WS</td>\n",
       "    </tr>\n",
       "    <tr>\n",
       "      <th>6</th>\n",
       "      <td>2017</td>\n",
       "      <td>WS</td>\n",
       "    </tr>\n",
       "    <tr>\n",
       "      <th>7</th>\n",
       "      <td>2017</td>\n",
       "      <td>TACL</td>\n",
       "    </tr>\n",
       "    <tr>\n",
       "      <th>8</th>\n",
       "      <td>2017</td>\n",
       "      <td>EACL</td>\n",
       "    </tr>\n",
       "    <tr>\n",
       "      <th>9</th>\n",
       "      <td>2017</td>\n",
       "      <td>EMNLP</td>\n",
       "    </tr>\n",
       "    <tr>\n",
       "      <th>10</th>\n",
       "      <td>2017</td>\n",
       "      <td>EMNLP</td>\n",
       "    </tr>\n",
       "    <tr>\n",
       "      <th>11</th>\n",
       "      <td>2018</td>\n",
       "      <td>WS</td>\n",
       "    </tr>\n",
       "    <tr>\n",
       "      <th>12</th>\n",
       "      <td>2018</td>\n",
       "      <td>TACL</td>\n",
       "    </tr>\n",
       "    <tr>\n",
       "      <th>13</th>\n",
       "      <td>2018</td>\n",
       "      <td>LREC</td>\n",
       "    </tr>\n",
       "    <tr>\n",
       "      <th>14</th>\n",
       "      <td>2018</td>\n",
       "      <td>LREC</td>\n",
       "    </tr>\n",
       "    <tr>\n",
       "      <th>15</th>\n",
       "      <td>2018</td>\n",
       "      <td>LREC</td>\n",
       "    </tr>\n",
       "    <tr>\n",
       "      <th>16</th>\n",
       "      <td>2018</td>\n",
       "      <td>LREC</td>\n",
       "    </tr>\n",
       "    <tr>\n",
       "      <th>17</th>\n",
       "      <td>2018</td>\n",
       "      <td>CL</td>\n",
       "    </tr>\n",
       "    <tr>\n",
       "      <th>18</th>\n",
       "      <td>2018</td>\n",
       "      <td>EMNLP</td>\n",
       "    </tr>\n",
       "    <tr>\n",
       "      <th>19</th>\n",
       "      <td>2018</td>\n",
       "      <td>COLING</td>\n",
       "    </tr>\n",
       "    <tr>\n",
       "      <th>20</th>\n",
       "      <td>2018</td>\n",
       "      <td>WS</td>\n",
       "    </tr>\n",
       "    <tr>\n",
       "      <th>21</th>\n",
       "      <td>2019</td>\n",
       "      <td>INLG</td>\n",
       "    </tr>\n",
       "    <tr>\n",
       "      <th>22</th>\n",
       "      <td>2019</td>\n",
       "      <td>WS</td>\n",
       "    </tr>\n",
       "    <tr>\n",
       "      <th>23</th>\n",
       "      <td>2019</td>\n",
       "      <td>WS</td>\n",
       "    </tr>\n",
       "    <tr>\n",
       "      <th>24</th>\n",
       "      <td>2019</td>\n",
       "      <td>ACL</td>\n",
       "    </tr>\n",
       "    <tr>\n",
       "      <th>25</th>\n",
       "      <td>2020</td>\n",
       "      <td>ACL</td>\n",
       "    </tr>\n",
       "    <tr>\n",
       "      <th>26</th>\n",
       "      <td>2020</td>\n",
       "      <td>LREC</td>\n",
       "    </tr>\n",
       "    <tr>\n",
       "      <th>27</th>\n",
       "      <td>2020</td>\n",
       "      <td>LREC</td>\n",
       "    </tr>\n",
       "    <tr>\n",
       "      <th>28</th>\n",
       "      <td>2020</td>\n",
       "      <td>LREC</td>\n",
       "    </tr>\n",
       "    <tr>\n",
       "      <th>29</th>\n",
       "      <td>2020</td>\n",
       "      <td>LREC</td>\n",
       "    </tr>\n",
       "    <tr>\n",
       "      <th>30</th>\n",
       "      <td>2020</td>\n",
       "      <td>LREC</td>\n",
       "    </tr>\n",
       "    <tr>\n",
       "      <th>31</th>\n",
       "      <td>2020</td>\n",
       "      <td>LREC</td>\n",
       "    </tr>\n",
       "    <tr>\n",
       "      <th>32</th>\n",
       "      <td>2020</td>\n",
       "      <td>LREC</td>\n",
       "    </tr>\n",
       "    <tr>\n",
       "      <th>33</th>\n",
       "      <td>2020</td>\n",
       "      <td>LREC</td>\n",
       "    </tr>\n",
       "    <tr>\n",
       "      <th>34</th>\n",
       "      <td>2020</td>\n",
       "      <td>LREC</td>\n",
       "    </tr>\n",
       "    <tr>\n",
       "      <th>35</th>\n",
       "      <td>2020</td>\n",
       "      <td>LREC</td>\n",
       "    </tr>\n",
       "    <tr>\n",
       "      <th>36</th>\n",
       "      <td>2020</td>\n",
       "      <td>WS</td>\n",
       "    </tr>\n",
       "  </tbody>\n",
       "</table>\n",
       "</div>"
      ],
      "text/plain": [
       "    year   venue\n",
       "0   2010      WS\n",
       "1   2013     ACL\n",
       "2   2014    LREC\n",
       "3   2015   EMNLP\n",
       "4   2016      WS\n",
       "5   2017      WS\n",
       "6   2017      WS\n",
       "7   2017    TACL\n",
       "8   2017    EACL\n",
       "9   2017   EMNLP\n",
       "10  2017   EMNLP\n",
       "11  2018      WS\n",
       "12  2018    TACL\n",
       "13  2018    LREC\n",
       "14  2018    LREC\n",
       "15  2018    LREC\n",
       "16  2018    LREC\n",
       "17  2018      CL\n",
       "18  2018   EMNLP\n",
       "19  2018  COLING\n",
       "20  2018      WS\n",
       "21  2019    INLG\n",
       "22  2019      WS\n",
       "23  2019      WS\n",
       "24  2019     ACL\n",
       "25  2020     ACL\n",
       "26  2020    LREC\n",
       "27  2020    LREC\n",
       "28  2020    LREC\n",
       "29  2020    LREC\n",
       "30  2020    LREC\n",
       "31  2020    LREC\n",
       "32  2020    LREC\n",
       "33  2020    LREC\n",
       "34  2020    LREC\n",
       "35  2020    LREC\n",
       "36  2020      WS"
      ]
     },
     "execution_count": 34,
     "metadata": {},
     "output_type": "execute_result"
    }
   ],
   "source": [
    "# SA: last is NaN\n",
    "year_venue_df = df[[\"Venue\", \"Abbr venue\"]][:-1]\n",
    "year_venue_df.columns = [\"year\", \"venue\"]\n",
    "print(type(year_venue_df[\"year\"]))\n",
    "year_venue_df.year = year_venue_df.year.astype(int)\n",
    "year_venue_df"
   ]
  },
  {
   "cell_type": "code",
   "execution_count": 52,
   "metadata": {},
   "outputs": [
    {
     "name": "stderr",
     "output_type": "stream",
     "text": [
      "/anaconda3/envs/dstc9/lib/python3.7/site-packages/ipykernel_launcher.py:6: UserWarning: Matplotlib is currently using module://ipykernel.pylab.backend_inline, which is a non-GUI backend, so cannot show the figure.\n",
      "  \n"
     ]
    },
    {
     "data": {
      "image/png": "[encoded data removed]",
      "text/plain": [
       "<Figure size 432x288 with 2 Axes>"
      ]
     },
     "metadata": {
      "needs_background": "light"
     },
     "output_type": "display_data"
    }
   ],
   "source": [
    "# https://stackoverflow.com/questions/31029560/plotting-categorical-data-with-pandas-and-matplotlib\n",
    "categorical_features = [\"year\", \"venue\"]\n",
    "fig, ax = plt.subplots(1, len(categorical_features))\n",
    "for i, categorical_feature in enumerate(year_venue_df[categorical_features]):\n",
    "    year_venue_df[categorical_feature].value_counts().plot(kind = \"bar\", ax=ax[i]).set_title(categorical_feature)\n",
    "fig.show()\n",
    "save_filepath = f\"{SAVE_DIR}/side_by_side_bar.png\"\n",
    "fig.savefig(save_filepath)   # save the figure to file\n",
    "plt.close(fig)    # close the figure window"
   ]
  },
  {
   "cell_type": "code",
   "execution_count": 56,
   "metadata": {},
   "outputs": [
    {
     "data": {
      "text/plain": [
       "<Figure size 10440x10440 with 0 Axes>"
      ]
     },
     "metadata": {},
     "output_type": "display_data"
    },
    {
     "data": {
      "image/png": "[encoded data removed]",
      "text/plain": [
       "<Figure size 432x288 with 1 Axes>"
      ]
     },
     "metadata": {
      "needs_background": "light"
     },
     "output_type": "display_data"
    }
   ],
   "source": [
    "plt.figure(figsize=(145,145))\n",
    "# country = year_venue_df.groupby(\"year\")\n",
    "# country.max().sort_values(by=\"points\",ascending=False)[\"points\"].plot.bar()\n",
    "pd.crosstab(year_venue_df['year'],year_venue_df['venue']).plot.bar()\n",
    "plt.xticks(rotation=50)\n",
    "plt.xlabel(\"Year\")\n",
    "plt.ylabel(\"Count\")\n",
    "save_filepath = f\"{SAVE_DIR}/crosstab.png\"\n",
    "plt.savefig(save_filepath)\n",
    "plt.show()"
   ]
  },
  {
   "cell_type": "code",
   "execution_count": 50,
   "metadata": {},
   "outputs": [],
   "source": [
    "# ----------------------------------------------------------------"
   ]
  },
  {
   "cell_type": "code",
   "execution_count": 43,
   "metadata": {},
   "outputs": [
    {
     "data": {
      "text/plain": [
       "<AxesSubplot:>"
      ]
     },
     "execution_count": 43,
     "metadata": {},
     "output_type": "execute_result"
    },
    {
     "data": {
      "image/png": "[encoded data removed]",
      "text/plain": [
       "<Figure size 432x288 with 1 Axes>"
      ]
     },
     "metadata": {
      "needs_background": "light"
     },
     "output_type": "display_data"
    }
   ],
   "source": [
    "year_venue_df['year'].value_counts().plot(kind='bar')"
   ]
  },
  {
   "cell_type": "code",
   "execution_count": 41,
   "metadata": {},
   "outputs": [
    {
     "data": {
      "text/plain": [
       "<AxesSubplot:>"
      ]
     },
     "execution_count": 41,
     "metadata": {},
     "output_type": "execute_result"
    },
    {
     "data": {
      "image/png": "[encoded data removed]",
      "text/plain": [
       "<Figure size 432x288 with 1 Axes>"
      ]
     },
     "metadata": {
      "needs_background": "light"
     },
     "output_type": "display_data"
    }
   ],
   "source": [
    "year_venue_df['venue'].value_counts().plot(kind='bar')"
   ]
  },
  {
   "cell_type": "code",
   "execution_count": 36,
   "metadata": {},
   "outputs": [
    {
     "data": {
      "text/plain": [
       "<AxesSubplot:xlabel='year'>"
      ]
     },
     "execution_count": 36,
     "metadata": {},
     "output_type": "execute_result"
    },
    {
     "data": {
      "image/png": "[encoded data removed]",
      "text/plain": [
       "<Figure size 432x288 with 1 Axes>"
      ]
     },
     "metadata": {
      "needs_background": "light"
     },
     "output_type": "display_data"
    }
   ],
   "source": [
    "pd.crosstab(year_venue_df['year'],year_venue_df['venue']).plot.bar()"
   ]
  },
  {
   "cell_type": "code",
   "execution_count": 37,
   "metadata": {},
   "outputs": [
    {
     "data": {
      "text/plain": [
       "<AxesSubplot:xlabel='venue'>"
      ]
     },
     "execution_count": 37,
     "metadata": {},
     "output_type": "execute_result"
    },
    {
     "data": {
      "image/png": "[encoded data removed]",
      "text/plain": [
       "<Figure size 432x288 with 1 Axes>"
      ]
     },
     "metadata": {
      "needs_background": "light"
     },
     "output_type": "display_data"
    }
   ],
   "source": [
    "pd.crosstab(year_venue_df['venue'],year_venue_df['year']).plot.bar()"
   ]
  }
 ],
 "metadata": {
  "kernelspec": {
   "display_name": "Python 3",
   "language": "python",
   "name": "python3"
  },
  "language_info": {
   "codemirror_mode": {
    "name": "ipython",
    "version": 3
   },
   "file_extension": ".py",
   "mimetype": "text/x-python",
   "name": "python",
   "nbconvert_exporter": "python",
   "pygments_lexer": "ipython3",
   "version": "3.7.8"
  }
 },
 "nbformat": 4,
 "nbformat_minor": 4
}
